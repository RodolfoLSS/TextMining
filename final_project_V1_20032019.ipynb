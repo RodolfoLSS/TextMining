{
 "cells": [
  {
   "cell_type": "code",
   "execution_count": 1,
   "metadata": {},
   "outputs": [],
   "source": [
    "import GetOldTweets3 as got\n",
    "import os\n",
    "import pandas as pd\n",
    "import numpy as np\n",
    "import datetime\n",
    "import re"
   ]
  },
  {
   "cell_type": "code",
   "execution_count": 2,
   "metadata": {},
   "outputs": [],
   "source": [
    "os.chdir(\"C:\\\\Users\\\\aliss\\\\Documents\\\\Nova IMS\\\\Cursos\\\\Text Mining\\\\Final Project\")"
   ]
  },
  {
   "cell_type": "code",
   "execution_count": 95,
   "metadata": {},
   "outputs": [],
   "source": [
    "tweetCriteria = got.manager.TweetCriteria().setQuerySearch(\"Bolsonaro candidato lang:pt\")\\\n",
    "                                           .setSince(\"2018-08-10\")\\\n",
    "                                           .setUntil(\"2018-10-10\")\\\n",
    "                                           .setMaxTweets(5)\n",
    "tweets = got.manager.TweetManager.getTweets(tweetCriteria)"
   ]
  },
  {
   "cell_type": "code",
   "execution_count": 96,
   "metadata": {},
   "outputs": [
    {
     "name": "stdout",
     "output_type": "stream",
     "text": [
      "“Apoiadores do Candidato à presidência Bolsonaro...Agride à oposição” #HaddadSim #EleNao #Hadadpresidente passem láhttps://twitter.com/i/moments/1049807892201832449 … \n",
      "\n",
      "Você manda um vídeo do PRÓPRIO CANDIDATO FALANDO que vai governar para maiorias e o sujeito fala \"A mas isso não ta escrito na proposta dele, não vai ser assim\". Alô Bolsonaro, você pode cagar na boca do seu eleitorado que eles vão comer falando que é brigadeiro. Desisto. \n",
      "\n",
      "O Bolsonaro diz que não vai apoiar o candidato do PSL em SC e quer apoio do NOVO.? https://twitter.com/reutersbrasil/status/1049747031051444224?s=21 … \n",
      "\n",
      "Coragem e força a vitória virar jamais um candidato perdeu com ampla vantagem com.tem Horário eleitoral mostrará 'história vitoriosa de Bolsonaro' https://www.terra.com.br/noticias/eleicoes/programa-da-tv-do-psl-mostrara-historia-vitoriosa-de-bolsonaro-diz-filho,3542ade88f35225ad3c8f22f0349f1bb74tn4gi5.html … \n",
      "\n",
      "Eu também não concordo! Mas também acho que alguém envolvido na vida política declarando apoio ao Bolsonaro, não seria ignorante ao ponto de tomar uma atitude descuidada, principalmente envolvendo a segurança pública no qual o candidato que o Zema declarou apoio enfatiza tanto! \n",
      "\n"
     ]
    }
   ],
   "source": [
    "for tweet in tweets:\n",
    "    print(tweet.text, \"\\n\")"
   ]
  },
  {
   "cell_type": "code",
   "execution_count": 97,
   "metadata": {},
   "outputs": [],
   "source": [
    "n = len(tweets)\n",
    "\n",
    "aux_id = [0] * n\n",
    "aux_text = [\" \"] * n\n",
    "aux_ht = [\" \"] * n\n",
    "aux_date = [datetime.date.today()] * n\n",
    "\n",
    "for i in range(n):\n",
    "    aux_id[i] = tweets[i].id\n",
    "    aux_text[i] = tweets[i].text\n",
    "    aux_ht[i] = tweets[i].hashtags\n",
    "    aux_date[i] = tweets[i].date\n",
    "    \n",
    "df = pd.DataFrame(np.transpose([aux_id, aux_text, aux_ht, aux_date]), columns=[\"id\", \"text\", \" hashtags\", \"date\"])"
   ]
  },
  {
   "cell_type": "code",
   "execution_count": null,
   "metadata": {},
   "outputs": [],
   "source": [
    "#df.to_csv(\"2019_02_05-2019_03_05.csv\")\n",
    "#df.to_csv(\"2018_09_10-2018_10_10.csv\")"
   ]
  },
  {
   "cell_type": "markdown",
   "metadata": {},
   "source": [
    "#### 2 - Processamento dos Tweets"
   ]
  },
  {
   "cell_type": "markdown",
   "metadata": {},
   "source": [
    "##### Dúvidas:\n",
    "* O que fazer com tweets de notícia?\n",
    "* Verifica a situação do stopwords;\n",
    "* Como tratar as abreviações?"
   ]
  },
  {
   "cell_type": "markdown",
   "metadata": {},
   "source": [
    "##### 3 - Pré Processamento\n",
    "    1 - Remoção de links, pois esses termos não possuem conteúdo semântico;\n",
    "    2 - Substituição de caracteres acentuados pelos correspondentes sem acentuação;\n",
    "    3 - \n",
    "    3 - Remoção de repetição de letras;\n",
    "    4 - Remoção de citação a outros usuários;\n",
    "    5 - Conversão de letras maiúsculas em minúsculas, a fim de padronizar o texto;\n",
    "    6 - Remoção de caracteres não alfabéticos e pontuação;\n",
    "    7 - Remoção de caracteres numéricos;"
   ]
  },
  {
   "cell_type": "code",
   "execution_count": 99,
   "metadata": {},
   "outputs": [],
   "source": [
    "# Use o cmd to install: conda install -c conda-forge spacy\n",
    "# baixar o modelo em português: python -m spacy download pt\n",
    "import spacy\n",
    "from unicodedata import normalize\n",
    "nlp = spacy.load(\"pt\")"
   ]
  },
  {
   "cell_type": "code",
   "execution_count": null,
   "metadata": {},
   "outputs": [],
   "source": [
    "# Verificando se NÃO é um stop word\n",
    "#nlp.vocab['não'].is_stop\n",
    "# Removendo NÃO da lista de stopwords\n",
    "#nlp.Defaults.stop_words.remove('beyond')"
   ]
  },
  {
   "cell_type": "code",
   "execution_count": 104,
   "metadata": {},
   "outputs": [],
   "source": [
    "def bigrama_nao(texto):\n",
    "    p = re.compile(r'(nao) (\\w*)')\n",
    "    bign = p.findall(texto)\n",
    "    for i in range(len(bign)):\n",
    "        texto = re.sub(str(bign[i][0]+' '+bign[i][1]), str(bign[i][0]+'_'+bign[i][1]), texto)\n",
    "\n",
    "    return texto"
   ]
  },
  {
   "cell_type": "code",
   "execution_count": 105,
   "metadata": {},
   "outputs": [],
   "source": [
    "# Pré processamento\n",
    "\n",
    "def pre_process(df):\n",
    "    df['text'] = df['text'].apply(lambda x: re.sub(r\"http\\S+\", \"\",x)) # 1\n",
    "    df['text'] = df['text'].apply(lambda x: normalize('NFKD', x).encode('ASCII', 'ignore').decode('ASCII')) # 2\n",
    "    df['text'] = df['text'].apply(lambda x: re.sub(r'\\bn\\b', 'nao',x, flags=re.IGNORECASE)) # \n",
    "    df['text'] = df['text'].apply(lambda x: re.sub(r'(\\w)(\\1{2,})', r'\\1',x)) # 3\n",
    "    df['text'] = df['text'].apply(lambda x: re.sub(r'(\\B[@](\\w* ))', '',x)) # 4\n",
    "    df['text'] = df['text'].apply(lambda x: x.lower()) # 5\n",
    "    df['text'] = df['text'].apply(lambda x: re.sub(r'[\\W*]+', ' ',x)) # 6\n",
    "    df['text'] = df['text'].apply(lambda x: re.sub(r'[0-9]', '',x)) # 7\n",
    "    df['text'] = df['text'].apply(lambda x: bigrama_nao(x)) # 7\n",
    "    \n",
    "    # Abreviações\n",
    "    df['text'] = df['text'].apply(lambda x: re.sub(r'\\bpq\\b', 'porque',x)) \n",
    "    df['text'] = df['text'].apply(lambda x: re.sub(r'\\bvc\\b', 'voce',x)) \n",
    "    df['text'] = df['text'].apply(lambda x: re.sub(r'\\btb\\b', 'tambem',x)) \n",
    "    df['text'] = df['text'].apply(lambda x: re.sub(r'\\btbm\\b', 'tambem',x)) \n",
    "\n",
    "    return df    "
   ]
  },
  {
   "cell_type": "code",
   "execution_count": 106,
   "metadata": {},
   "outputs": [
    {
     "data": {
      "text/html": [
       "<div>\n",
       "<style scoped>\n",
       "    .dataframe tbody tr th:only-of-type {\n",
       "        vertical-align: middle;\n",
       "    }\n",
       "\n",
       "    .dataframe tbody tr th {\n",
       "        vertical-align: top;\n",
       "    }\n",
       "\n",
       "    .dataframe thead th {\n",
       "        text-align: right;\n",
       "    }\n",
       "</style>\n",
       "<table border=\"1\" class=\"dataframe\">\n",
       "  <thead>\n",
       "    <tr style=\"text-align: right;\">\n",
       "      <th></th>\n",
       "      <th>id</th>\n",
       "      <th>text</th>\n",
       "      <th>hashtags</th>\n",
       "      <th>date</th>\n",
       "    </tr>\n",
       "  </thead>\n",
       "  <tbody>\n",
       "    <tr>\n",
       "      <th>0</th>\n",
       "      <td>1049811735715213314</td>\n",
       "      <td>apoiadores do candidato a presidencia bolsonar...</td>\n",
       "      <td>#HaddadSim #EleNao #Hadadpresidente</td>\n",
       "      <td>2018-10-09 23:59:57+00:00</td>\n",
       "    </tr>\n",
       "    <tr>\n",
       "      <th>1</th>\n",
       "      <td>1049811735715155968</td>\n",
       "      <td>voce manda um video do proprio candidato falan...</td>\n",
       "      <td></td>\n",
       "      <td>2018-10-09 23:59:57+00:00</td>\n",
       "    </tr>\n",
       "    <tr>\n",
       "      <th>2</th>\n",
       "      <td>1049811670120505344</td>\n",
       "      <td>o bolsonaro diz que nao_vai apoiar o candidato...</td>\n",
       "      <td></td>\n",
       "      <td>2018-10-09 23:59:41+00:00</td>\n",
       "    </tr>\n",
       "    <tr>\n",
       "      <th>3</th>\n",
       "      <td>1049811666802810880</td>\n",
       "      <td>coragem e forca a vitoria virar jamais um cand...</td>\n",
       "      <td></td>\n",
       "      <td>2018-10-09 23:59:40+00:00</td>\n",
       "    </tr>\n",
       "    <tr>\n",
       "      <th>4</th>\n",
       "      <td>1049811649975242752</td>\n",
       "      <td>eu tambem nao_concordo mas tambem acho que alg...</td>\n",
       "      <td></td>\n",
       "      <td>2018-10-09 23:59:36+00:00</td>\n",
       "    </tr>\n",
       "  </tbody>\n",
       "</table>\n",
       "</div>"
      ],
      "text/plain": [
       "                    id                                               text  \\\n",
       "0  1049811735715213314  apoiadores do candidato a presidencia bolsonar...   \n",
       "1  1049811735715155968  voce manda um video do proprio candidato falan...   \n",
       "2  1049811670120505344  o bolsonaro diz que nao_vai apoiar o candidato...   \n",
       "3  1049811666802810880  coragem e forca a vitoria virar jamais um cand...   \n",
       "4  1049811649975242752  eu tambem nao_concordo mas tambem acho que alg...   \n",
       "\n",
       "                              hashtags                       date  \n",
       "0  #HaddadSim #EleNao #Hadadpresidente  2018-10-09 23:59:57+00:00  \n",
       "1                                       2018-10-09 23:59:57+00:00  \n",
       "2                                       2018-10-09 23:59:41+00:00  \n",
       "3                                       2018-10-09 23:59:40+00:00  \n",
       "4                                       2018-10-09 23:59:36+00:00  "
      ]
     },
     "execution_count": 106,
     "metadata": {},
     "output_type": "execute_result"
    }
   ],
   "source": [
    "# testando função de pre processamento\n",
    "pre_process(df)"
   ]
  },
  {
   "cell_type": "code",
   "execution_count": 107,
   "metadata": {},
   "outputs": [
    {
     "name": "stdout",
     "output_type": "stream",
     "text": [
      "0    apoiadores do candidato a presidencia bolsonar...\n",
      "1    voce manda um video do proprio candidato falan...\n",
      "2    o bolsonaro diz que nao_vai apoiar o candidato...\n",
      "3    coragem e forca a vitoria virar jamais um cand...\n",
      "4    eu tambem nao_concordo mas tambem acho que alg...\n",
      "Name: text, dtype: object\n"
     ]
    }
   ],
   "source": [
    "print( df['text'])"
   ]
  },
  {
   "cell_type": "markdown",
   "metadata": {},
   "source": [
    "#### Ideias\n",
    "\n",
    "* Tf-idf not only counts the occurrence of a word in the given text(or document), but also reflect how important the word is to the document. \n",
    "* Try with \"bigram\""
   ]
  }
 ],
 "metadata": {
  "kernelspec": {
   "display_name": "Python 3",
   "language": "python",
   "name": "python3"
  },
  "language_info": {
   "codemirror_mode": {
    "name": "ipython",
    "version": 3
   },
   "file_extension": ".py",
   "mimetype": "text/x-python",
   "name": "python",
   "nbconvert_exporter": "python",
   "pygments_lexer": "ipython3",
   "version": "3.7.1"
  }
 },
 "nbformat": 4,
 "nbformat_minor": 2
}
